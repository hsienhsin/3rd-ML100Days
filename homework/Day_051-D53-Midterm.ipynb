{
 "cells": [
  {
   "cell_type": "markdown",
   "metadata": {
    "collapsed": true
   },
   "source": [
    "# 作業 : Kaggle期中考 考ML與調參相關"
   ]
  },
  {
   "cell_type": "code",
   "execution_count": 28,
   "metadata": {},
   "outputs": [],
   "source": [
    "# 做完特徵工程前的所有準備 (與前範例相同)\n",
    "import pandas as pd\n",
    "import numpy as np\n",
    "import copy, time\n",
    "import warnings\n",
    "warnings.filterwarnings('ignore')\n",
    "from IPython.display import display\n",
    "from sklearn.preprocessing import MinMaxScaler,StandardScaler\n",
    "from sklearn.model_selection import cross_val_score\n",
    "from sklearn.linear_model import LogisticRegression\n",
    "from sklearn.ensemble import GradientBoostingClassifier, RandomForestClassifier\n",
    "\n",
    "import seaborn as sns\n",
    "import matplotlib.pyplot as plt\n",
    "%matplotlib inline\n",
    "\n",
    "\n",
    "data_path = 'data/3rd-ml100marathon-midterm/'\n",
    "df_train = pd.read_csv(data_path + 'train_data.csv')\n",
    "df_test = pd.read_csv(data_path + 'test_features.csv')\n",
    "train_Y = df_train['poi']\n",
    "train_num = train_Y.shape[0]\n",
    "\n",
    "name = df_test['name']\n",
    "\n",
    "train = df_train.drop(['name','poi'], axis=1)\n",
    "test = df_test.drop(['name'],axis=1)\n",
    "df = pd.concat([train, test])"
   ]
  },
  {
   "cell_type": "code",
   "execution_count": 3,
   "metadata": {},
   "outputs": [
    {
     "data": {
      "text/plain": [
       "(146, 20)"
      ]
     },
     "execution_count": 3,
     "metadata": {},
     "output_type": "execute_result"
    }
   ],
   "source": [
    "df.shape"
   ]
  },
  {
   "cell_type": "code",
   "execution_count": 4,
   "metadata": {},
   "outputs": [
    {
     "data": {
      "text/html": [
       "<div>\n",
       "<style scoped>\n",
       "    .dataframe tbody tr th:only-of-type {\n",
       "        vertical-align: middle;\n",
       "    }\n",
       "\n",
       "    .dataframe tbody tr th {\n",
       "        vertical-align: top;\n",
       "    }\n",
       "\n",
       "    .dataframe thead th {\n",
       "        text-align: right;\n",
       "    }\n",
       "</style>\n",
       "<table border=\"1\" class=\"dataframe\">\n",
       "  <thead>\n",
       "    <tr style=\"text-align: right;\">\n",
       "      <th></th>\n",
       "      <th>name</th>\n",
       "      <th>bonus</th>\n",
       "      <th>deferral_payments</th>\n",
       "      <th>deferred_income</th>\n",
       "      <th>director_fees</th>\n",
       "      <th>email_address</th>\n",
       "      <th>exercised_stock_options</th>\n",
       "      <th>expenses</th>\n",
       "      <th>from_messages</th>\n",
       "      <th>from_poi_to_this_person</th>\n",
       "      <th>...</th>\n",
       "      <th>loan_advances</th>\n",
       "      <th>long_term_incentive</th>\n",
       "      <th>other</th>\n",
       "      <th>restricted_stock</th>\n",
       "      <th>restricted_stock_deferred</th>\n",
       "      <th>salary</th>\n",
       "      <th>shared_receipt_with_poi</th>\n",
       "      <th>to_messages</th>\n",
       "      <th>total_payments</th>\n",
       "      <th>total_stock_value</th>\n",
       "    </tr>\n",
       "  </thead>\n",
       "  <tbody>\n",
       "    <tr>\n",
       "      <td>0</td>\n",
       "      <td>BELDEN TIMOTHY N</td>\n",
       "      <td>5249999.0</td>\n",
       "      <td>2144013.0</td>\n",
       "      <td>-2334434.0</td>\n",
       "      <td>NaN</td>\n",
       "      <td>tim.belden@enron.com</td>\n",
       "      <td>953136.0</td>\n",
       "      <td>17355.0</td>\n",
       "      <td>484.0</td>\n",
       "      <td>228.0</td>\n",
       "      <td>...</td>\n",
       "      <td>NaN</td>\n",
       "      <td>NaN</td>\n",
       "      <td>210698.0</td>\n",
       "      <td>157569.0</td>\n",
       "      <td>NaN</td>\n",
       "      <td>213999.0</td>\n",
       "      <td>5521.0</td>\n",
       "      <td>7991.0</td>\n",
       "      <td>5501630.0</td>\n",
       "      <td>1110705.0</td>\n",
       "    </tr>\n",
       "    <tr>\n",
       "      <td>1</td>\n",
       "      <td>BOWEN JR RAYMOND M</td>\n",
       "      <td>1350000.0</td>\n",
       "      <td>NaN</td>\n",
       "      <td>-833.0</td>\n",
       "      <td>NaN</td>\n",
       "      <td>raymond.bowen@enron.com</td>\n",
       "      <td>NaN</td>\n",
       "      <td>65907.0</td>\n",
       "      <td>27.0</td>\n",
       "      <td>140.0</td>\n",
       "      <td>...</td>\n",
       "      <td>NaN</td>\n",
       "      <td>974293.0</td>\n",
       "      <td>1621.0</td>\n",
       "      <td>252055.0</td>\n",
       "      <td>NaN</td>\n",
       "      <td>278601.0</td>\n",
       "      <td>1593.0</td>\n",
       "      <td>1858.0</td>\n",
       "      <td>2669589.0</td>\n",
       "      <td>252055.0</td>\n",
       "    </tr>\n",
       "    <tr>\n",
       "      <td>2</td>\n",
       "      <td>HANNON KEVIN P</td>\n",
       "      <td>1500000.0</td>\n",
       "      <td>NaN</td>\n",
       "      <td>-3117011.0</td>\n",
       "      <td>NaN</td>\n",
       "      <td>kevin.hannon@enron.com</td>\n",
       "      <td>5538001.0</td>\n",
       "      <td>34039.0</td>\n",
       "      <td>32.0</td>\n",
       "      <td>32.0</td>\n",
       "      <td>...</td>\n",
       "      <td>NaN</td>\n",
       "      <td>1617011.0</td>\n",
       "      <td>11350.0</td>\n",
       "      <td>853064.0</td>\n",
       "      <td>NaN</td>\n",
       "      <td>243293.0</td>\n",
       "      <td>1035.0</td>\n",
       "      <td>1045.0</td>\n",
       "      <td>288682.0</td>\n",
       "      <td>6391065.0</td>\n",
       "    </tr>\n",
       "    <tr>\n",
       "      <td>3</td>\n",
       "      <td>DELAINEY DAVID W</td>\n",
       "      <td>3000000.0</td>\n",
       "      <td>NaN</td>\n",
       "      <td>NaN</td>\n",
       "      <td>NaN</td>\n",
       "      <td>david.delainey@enron.com</td>\n",
       "      <td>2291113.0</td>\n",
       "      <td>86174.0</td>\n",
       "      <td>3069.0</td>\n",
       "      <td>66.0</td>\n",
       "      <td>...</td>\n",
       "      <td>NaN</td>\n",
       "      <td>1294981.0</td>\n",
       "      <td>1661.0</td>\n",
       "      <td>1323148.0</td>\n",
       "      <td>NaN</td>\n",
       "      <td>365163.0</td>\n",
       "      <td>2097.0</td>\n",
       "      <td>3093.0</td>\n",
       "      <td>4747979.0</td>\n",
       "      <td>3614261.0</td>\n",
       "    </tr>\n",
       "    <tr>\n",
       "      <td>4</td>\n",
       "      <td>CAUSEY RICHARD A</td>\n",
       "      <td>1000000.0</td>\n",
       "      <td>NaN</td>\n",
       "      <td>-235000.0</td>\n",
       "      <td>NaN</td>\n",
       "      <td>richard.causey@enron.com</td>\n",
       "      <td>NaN</td>\n",
       "      <td>30674.0</td>\n",
       "      <td>49.0</td>\n",
       "      <td>58.0</td>\n",
       "      <td>...</td>\n",
       "      <td>NaN</td>\n",
       "      <td>350000.0</td>\n",
       "      <td>307895.0</td>\n",
       "      <td>2502063.0</td>\n",
       "      <td>NaN</td>\n",
       "      <td>415189.0</td>\n",
       "      <td>1585.0</td>\n",
       "      <td>1892.0</td>\n",
       "      <td>1868758.0</td>\n",
       "      <td>2502063.0</td>\n",
       "    </tr>\n",
       "  </tbody>\n",
       "</table>\n",
       "<p>5 rows × 21 columns</p>\n",
       "</div>"
      ],
      "text/plain": [
       "                 name      bonus  deferral_payments  deferred_income  \\\n",
       "0    BELDEN TIMOTHY N  5249999.0          2144013.0       -2334434.0   \n",
       "1  BOWEN JR RAYMOND M  1350000.0                NaN           -833.0   \n",
       "2      HANNON KEVIN P  1500000.0                NaN       -3117011.0   \n",
       "3    DELAINEY DAVID W  3000000.0                NaN              NaN   \n",
       "4    CAUSEY RICHARD A  1000000.0                NaN        -235000.0   \n",
       "\n",
       "   director_fees             email_address  exercised_stock_options  expenses  \\\n",
       "0            NaN      tim.belden@enron.com                 953136.0   17355.0   \n",
       "1            NaN   raymond.bowen@enron.com                      NaN   65907.0   \n",
       "2            NaN    kevin.hannon@enron.com                5538001.0   34039.0   \n",
       "3            NaN  david.delainey@enron.com                2291113.0   86174.0   \n",
       "4            NaN  richard.causey@enron.com                      NaN   30674.0   \n",
       "\n",
       "   from_messages  from_poi_to_this_person  ...  loan_advances  \\\n",
       "0          484.0                    228.0  ...            NaN   \n",
       "1           27.0                    140.0  ...            NaN   \n",
       "2           32.0                     32.0  ...            NaN   \n",
       "3         3069.0                     66.0  ...            NaN   \n",
       "4           49.0                     58.0  ...            NaN   \n",
       "\n",
       "   long_term_incentive     other  restricted_stock  restricted_stock_deferred  \\\n",
       "0                  NaN  210698.0          157569.0                        NaN   \n",
       "1             974293.0    1621.0          252055.0                        NaN   \n",
       "2            1617011.0   11350.0          853064.0                        NaN   \n",
       "3            1294981.0    1661.0         1323148.0                        NaN   \n",
       "4             350000.0  307895.0         2502063.0                        NaN   \n",
       "\n",
       "     salary  shared_receipt_with_poi  to_messages  total_payments  \\\n",
       "0  213999.0                   5521.0       7991.0       5501630.0   \n",
       "1  278601.0                   1593.0       1858.0       2669589.0   \n",
       "2  243293.0                   1035.0       1045.0        288682.0   \n",
       "3  365163.0                   2097.0       3093.0       4747979.0   \n",
       "4  415189.0                   1585.0       1892.0       1868758.0   \n",
       "\n",
       "   total_stock_value  \n",
       "0          1110705.0  \n",
       "1           252055.0  \n",
       "2          6391065.0  \n",
       "3          3614261.0  \n",
       "4          2502063.0  \n",
       "\n",
       "[5 rows x 21 columns]"
      ]
     },
     "execution_count": 4,
     "metadata": {},
     "output_type": "execute_result"
    }
   ],
   "source": [
    "df_test.head()"
   ]
  },
  {
   "cell_type": "code",
   "execution_count": 5,
   "metadata": {},
   "outputs": [
    {
     "name": "stdout",
     "output_type": "stream",
     "text": [
      "Size of train data: (113, 22)\n",
      "Size of test data: (33, 21)\n",
      "Size of df data: (146, 20)\n"
     ]
    }
   ],
   "source": [
    "print(\"Size of train data:\", df_train.shape)\n",
    "print(\"Size of test data:\", df_test.shape)\n",
    "print(\"Size of df data:\", df.shape)"
   ]
  },
  {
   "cell_type": "markdown",
   "metadata": {},
   "source": [
    "# EDA"
   ]
  },
  {
   "cell_type": "code",
   "execution_count": 6,
   "metadata": {},
   "outputs": [
    {
     "name": "stdout",
     "output_type": "stream",
     "text": [
      "float64    19\n",
      "object      1\n",
      "dtype: int64\n",
      "<bound method IndexOpsMixin.value_counts of bonus                        float64\n",
      "deferral_payments            float64\n",
      "deferred_income              float64\n",
      "director_fees                float64\n",
      "email_address                 object\n",
      "exercised_stock_options      float64\n",
      "expenses                     float64\n",
      "from_messages                float64\n",
      "from_poi_to_this_person      float64\n",
      "from_this_person_to_poi      float64\n",
      "loan_advances                float64\n",
      "long_term_incentive          float64\n",
      "other                        float64\n",
      "restricted_stock             float64\n",
      "restricted_stock_deferred    float64\n",
      "salary                       float64\n",
      "shared_receipt_with_poi      float64\n",
      "to_messages                  float64\n",
      "total_payments               float64\n",
      "total_stock_value            float64\n",
      "dtype: object>\n"
     ]
    }
   ],
   "source": [
    "print(df.dtypes.value_counts())\n",
    "print(df.dtypes.value_counts)"
   ]
  },
  {
   "cell_type": "code",
   "execution_count": 7,
   "metadata": {},
   "outputs": [
    {
     "data": {
      "text/plain": [
       "loan_advances                142\n",
       "director_fees                129\n",
       "restricted_stock_deferred    128\n",
       "deferral_payments            107\n",
       "deferred_income               97\n",
       "long_term_incentive           80\n",
       "bonus                         64\n",
       "from_messages                 60\n",
       "from_poi_to_this_person       60\n",
       "from_this_person_to_poi       60\n",
       "shared_receipt_with_poi       60\n",
       "to_messages                   60\n",
       "other                         53\n",
       "expenses                      51\n",
       "salary                        51\n",
       "exercised_stock_options       44\n",
       "restricted_stock              36\n",
       "email_address                 35\n",
       "total_payments                21\n",
       "total_stock_value             20\n",
       "dtype: int64"
      ]
     },
     "execution_count": 7,
     "metadata": {},
     "output_type": "execute_result"
    }
   ],
   "source": [
    "df.isnull().sum().sort_values(ascending=False)"
   ]
  },
  {
   "cell_type": "code",
   "execution_count": 8,
   "metadata": {},
   "outputs": [
    {
     "data": {
      "text/plain": [
       "bonus                         41\n",
       "deferral_payments             39\n",
       "deferred_income               44\n",
       "director_fees                 17\n",
       "exercised_stock_options      101\n",
       "expenses                      94\n",
       "from_messages                 64\n",
       "from_poi_to_this_person       57\n",
       "from_this_person_to_poi       41\n",
       "loan_advances                  4\n",
       "long_term_incentive           52\n",
       "other                         92\n",
       "restricted_stock              97\n",
       "restricted_stock_deferred     18\n",
       "salary                        94\n",
       "shared_receipt_with_poi       83\n",
       "to_messages                   86\n",
       "total_payments               125\n",
       "total_stock_value            124\n",
       "dtype: int64"
      ]
     },
     "execution_count": 8,
     "metadata": {},
     "output_type": "execute_result"
    }
   ],
   "source": [
    "df.select_dtypes(include=[\"float64\"]).apply(pd.Series.nunique, axis = 0)"
   ]
  },
  {
   "cell_type": "markdown",
   "metadata": {},
   "source": [
    "# 測試  df_float"
   ]
  },
  {
   "cell_type": "code",
   "execution_count": 11,
   "metadata": {},
   "outputs": [
    {
     "data": {
      "text/plain": [
       "0.8754940711462451"
      ]
     },
     "execution_count": 11,
     "metadata": {},
     "output_type": "execute_result"
    }
   ],
   "source": [
    "#df_float 空值補平均值\n",
    "df_float = df.select_dtypes(include=[\"float64\"])\n",
    "df_float_mean = df_float.fillna(df_float.mean())\n",
    "\n",
    "train_X = df_float_mean[:train_num]\n",
    "lr = LogisticRegression()\n",
    "cross_val_score(lr, train_X, train_Y, cv=5).mean()"
   ]
  },
  {
   "cell_type": "code",
   "execution_count": 30,
   "metadata": {},
   "outputs": [],
   "source": [
    "#df_float 空值補平均值 搭配最大最小化\n",
    "MMEncoder = MinMaxScaler()\n",
    "df_float_mms = MMEncoder.fit_transform(df_float_mean)\n",
    "\n",
    "train_X = df_float_mms[:train_num]\n",
    "test_X = df_float_ss[train_num:]"
   ]
  },
  {
   "cell_type": "code",
   "execution_count": 31,
   "metadata": {},
   "outputs": [],
   "source": [
    "#df_float 空值補平均值 搭配標準化\n",
    "#SSEncoder = StandardScaler()\n",
    "#df_float_ss = SSEncoder.fit_transform(df_float_mean)\n",
    "\n",
    "#train_X = df_float_ss[:train_num]\n",
    "#lr = LogisticRegression()\n",
    "#cross_val_score(lr, train_X, train_Y, cv=5).mean()"
   ]
  },
  {
   "cell_type": "code",
   "execution_count": 29,
   "metadata": {},
   "outputs": [
    {
     "data": {
      "text/plain": [
       "0.8853754940711462"
      ]
     },
     "execution_count": 29,
     "metadata": {},
     "output_type": "execute_result"
    }
   ],
   "source": [
    "#線性回歸\n",
    "lr = LogisticRegression()\n",
    "cross_val_score(lr, train_X, train_Y, cv=5).mean()"
   ]
  },
  {
   "cell_type": "code",
   "execution_count": 34,
   "metadata": {},
   "outputs": [],
   "source": [
    "lr.fit(train_X, train_Y)\n",
    "lr_pred = lr.predict_proba(test_X)[:,1]\n",
    "sub = pd.DataFrame({'name':name, 'poi':lr_pred})\n",
    "sub.to_csv('midterm-lr-1.csv', index=False)"
   ]
  },
  {
   "cell_type": "code",
   "execution_count": 32,
   "metadata": {},
   "outputs": [
    {
     "data": {
      "text/plain": [
       "0.8225296442687748"
      ]
     },
     "execution_count": 32,
     "metadata": {},
     "output_type": "execute_result"
    }
   ],
   "source": [
    "#梯度提升機\n",
    "gdbt = GradientBoostingClassifier()\n",
    "cross_val_score(gdbt, train_X, train_Y, cv=5).mean()"
   ]
  },
  {
   "cell_type": "code",
   "execution_count": 35,
   "metadata": {},
   "outputs": [],
   "source": [
    "gdbt.fit(train_X, train_Y)\n",
    "gdbt_pred = gdbt.predict_proba(test_X)[:,1]\n",
    "sub = pd.DataFrame({'name':name, 'poi':gdbt_pred})\n",
    "sub.to_csv('midterm-gdbt.csv', index=False)"
   ]
  },
  {
   "cell_type": "code",
   "execution_count": 33,
   "metadata": {},
   "outputs": [
    {
     "data": {
      "text/plain": [
       "0.867588932806324"
      ]
     },
     "execution_count": 33,
     "metadata": {},
     "output_type": "execute_result"
    }
   ],
   "source": [
    "#隨機森林\n",
    "rf = RandomForestClassifier()\n",
    "cross_val_score(rf, train_X, train_Y, cv=5).mean()"
   ]
  },
  {
   "cell_type": "code",
   "execution_count": 36,
   "metadata": {},
   "outputs": [],
   "source": [
    "rf.fit(train_X, train_Y)\n",
    "rf_pred = rf.predict_proba(test_X)[:,1]\n",
    "sub = pd.DataFrame({'name':name, 'poi':rf_pred})\n",
    "sub.to_csv('midterm-rf.csv', index=False)"
   ]
  },
  {
   "cell_type": "code",
   "execution_count": 25,
   "metadata": {},
   "outputs": [],
   "source": []
  },
  {
   "cell_type": "code",
   "execution_count": null,
   "metadata": {},
   "outputs": [],
   "source": []
  }
 ],
 "metadata": {
  "kernelspec": {
   "display_name": "Python 3",
   "language": "python",
   "name": "python3"
  },
  "language_info": {
   "codemirror_mode": {
    "name": "ipython",
    "version": 3
   },
   "file_extension": ".py",
   "mimetype": "text/x-python",
   "name": "python",
   "nbconvert_exporter": "python",
   "pygments_lexer": "ipython3",
   "version": "3.7.4"
  }
 },
 "nbformat": 4,
 "nbformat_minor": 2
}
