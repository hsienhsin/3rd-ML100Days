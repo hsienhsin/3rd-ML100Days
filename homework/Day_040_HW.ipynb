{
 "cells": [
  {
   "cell_type": "markdown",
   "metadata": {},
   "source": [
    "## [作業重點]\n",
    "使用 Sklearn 中的 Lasso, Ridge 模型，來訓練各種資料集，務必了解送進去模型訓練的**資料型態**為何，也請了解模型中各項參數的意義。\n",
    "\n",
    "機器學習的模型非常多種，但要訓練的資料多半有固定的格式，確保你了解訓練資料的格式為何，這樣在應用新模型時，就能夠最快的上手開始訓練！"
   ]
  },
  {
   "cell_type": "markdown",
   "metadata": {},
   "source": [
    "## 練習時間\n",
    "試著使用 sklearn datasets 的其他資料集 (boston, ...)，來訓練自己的線性迴歸模型，並加上適當的正則化來觀察訓練情形。"
   ]
  },
  {
   "cell_type": "code",
   "execution_count": 11,
   "metadata": {},
   "outputs": [],
   "source": [
    "import numpy as np\n",
    "import matplotlib.pyplot as plt\n",
    "from sklearn import datasets, linear_model\n",
    "from sklearn.model_selection import train_test_split\n",
    "from sklearn.metrics import mean_squared_error, r2_score"
   ]
  },
  {
   "cell_type": "code",
   "execution_count": 78,
   "metadata": {},
   "outputs": [
    {
     "data": {
      "text/plain": [
       "array([ 74.43391835,  93.01109527, 174.89737143,  52.70087943,\n",
       "       180.63167083, 145.29216855, 112.87572919, 121.31665469,\n",
       "        86.80032197,  72.09378757, 106.45223905, 193.85629433,\n",
       "       182.28244231, 125.44954596, 155.88807338, 139.16274427,\n",
       "       176.97750299, 119.391544  , 110.71450134, 183.79586685,\n",
       "       215.37201852, 181.15778329,  58.74605273, 228.82344172,\n",
       "        54.2078642 , 107.86621435, 157.1596501 , 180.13320036,\n",
       "        62.20538852,  67.18498305, 190.81938489, 118.09494234,\n",
       "       260.89115016, 183.19864659, 105.60921861, 175.91776536,\n",
       "       176.89214476, 156.04517274, 146.9267604 , 157.34264891,\n",
       "       198.17580795, 168.02789586, 237.98697647,  71.33866228,\n",
       "       237.45207957, 108.07352281, 152.11732859,  50.30628893,\n",
       "       199.55743787, 139.52692004, 110.45619532, 101.52014142,\n",
       "       154.91606348, 228.90426313,  54.52750793, 187.29002271,\n",
       "       106.15579971,  93.61499106, 190.00654826, 226.40047522,\n",
       "       124.53876748,  97.0908313 , 168.71526129, 249.76923806,\n",
       "       120.97965421, 166.18303864, 125.74890414, 201.92319626,\n",
       "       228.46151939, 198.24974673, 146.03410277, 163.99013963,\n",
       "       162.38407362, 212.78534323, 162.6299936 , 210.2429608 ,\n",
       "        91.61967593, 174.87371699, 141.22837306, 159.42309295,\n",
       "       156.53865915, 199.40366836, 147.73539256, 140.5505701 ,\n",
       "        55.16763669, 177.30731091, 225.99809618, 121.31254027,\n",
       "       140.94135558])"
      ]
     },
     "execution_count": 78,
     "metadata": {},
     "output_type": "execute_result"
    }
   ],
   "source": [
    "#讀取Boston\n",
    "btn = datasets.load_diabetes()\n",
    "\n",
    "#切分訓練/測試集\n",
    "X_train, X_test, y_train, y_test = train_test_split(btn.data, btn.target, test_size=0.2, random_state=4)\n",
    "\n",
    "#建立線性回歸模型\n",
    "lr = linear_model.LinearRegression()\n",
    "\n",
    "#訓練回歸模型\n",
    "lr.fit(X_train, y_train)\n",
    "\n",
    "#測試回歸模型\n",
    "y_pred = lr.predict(X_test)\n",
    "y_pred"
   ]
  },
  {
   "cell_type": "code",
   "execution_count": 71,
   "metadata": {},
   "outputs": [
    {
     "name": "stdout",
     "output_type": "stream",
     "text": [
      "[  33.40877011 -292.24672884  481.07153405  369.06269614 -966.37849405\n",
      "  589.81383056  232.61924401  288.3263166   802.72704593   37.81285219]\n"
     ]
    }
   ],
   "source": [
    "print(lr.coef_)"
   ]
  },
  {
   "cell_type": "code",
   "execution_count": 72,
   "metadata": {},
   "outputs": [
    {
     "name": "stdout",
     "output_type": "stream",
     "text": [
      "Mean Square error 2939.42\n"
     ]
    }
   ],
   "source": [
    "#預測值與實際時的差距 使用MSE\n",
    "print('Mean Square error %.2f' % mean_squared_error(y_test, y_pred))"
   ]
  },
  {
   "cell_type": "code",
   "execution_count": 116,
   "metadata": {},
   "outputs": [],
   "source": [
    "alphalist =[0.001, 0.01, 0.1, 1 ,10]"
   ]
  },
  {
   "cell_type": "markdown",
   "metadata": {},
   "source": [
    "### LASSO "
   ]
  },
  {
   "cell_type": "code",
   "execution_count": 120,
   "metadata": {},
   "outputs": [
    {
     "name": "stdout",
     "output_type": "stream",
     "text": [
      "[  33.67286538 -291.04286293  481.70890733  368.32942092 -898.42842086\n",
      "  538.72767558  199.24998287  274.4977345   778.40546382   37.12251045]\n",
      "alpha: 0.001   Mean Square error: 2933.45 \n",
      "\n",
      "[  33.90076776 -279.56061243  487.80357151  362.98760434 -454.07885677\n",
      "  194.49093524   -0.          204.9980631   615.48787274   31.81300179]\n",
      "alpha: 0.01   Mean Square error: 2905.60 \n",
      "\n",
      "[   0.         -198.92007047  480.66671601  330.63402569  -26.57095924\n",
      "   -0.         -209.48136823    0.          490.41780815    0.49979948]\n",
      "alpha: 0.1   Mean Square error: 2877.23 \n",
      "\n",
      "[  0.          -0.         321.203877    57.74744332   0.\n",
      "   0.          -0.           0.         332.41817196   0.        ]\n",
      "alpha: 1   Mean Square error: 3505.84 \n",
      "\n",
      "[ 0.  0.  0.  0.  0.  0. -0.  0.  0.  0.]\n",
      "alpha: 10   Mean Square error: 5460.56 \n",
      "\n"
     ]
    }
   ],
   "source": [
    "def lassoModel(alpha):\n",
    "    #建立線性回歸模型 with LASSO 正規化\n",
    "    lso = linear_model.Lasso(alpha)\n",
    "\n",
    "    #訓練回歸模型\n",
    "    lso.fit(X_train, y_train)\n",
    "\n",
    "    #測試回歸模型\n",
    "    y_pred = lso.predict(X_test)\n",
    "    print(lso.coef_)\n",
    "    \n",
    "    #預測值與實際時的差距 使用MSE\n",
    "    print('alpha: %s ' % alpha, ' Mean Square error: %.2f' % mean_squared_error(y_test, y_pred), '\\n')\n",
    "    \n",
    "    \n",
    "for i in alphalist:\n",
    "    lassoModel(i)"
   ]
  },
  {
   "cell_type": "markdown",
   "metadata": {},
   "source": [
    "### Ridge"
   ]
  },
  {
   "cell_type": "code",
   "execution_count": 121,
   "metadata": {},
   "outputs": [
    {
     "name": "stdout",
     "output_type": "stream",
     "text": [
      "[  34.52119955 -290.84626721  482.39358233  368.07364661 -852.49470901\n",
      "  501.62792289  180.12864616  270.76704605  759.76023254   37.49066186]\n",
      "alpha: 0.001   Mean Square error: 2931.77 \n",
      "\n",
      "[  38.87160545 -283.00366006  485.04076958  362.44759568 -419.24994069\n",
      "  168.12496699  -18.83740996  203.84384894  594.04104023   37.9221091 ]\n",
      "alpha: 0.01   Mean Square error: 2908.78 \n",
      "\n",
      "[  44.02025512 -241.69666596  452.98163524  332.04993719  -76.34010147\n",
      "  -68.52063199 -164.98817213  149.9687712   431.61985919   58.51762582]\n",
      "alpha: 0.1   Mean Square error: 2894.59 \n",
      "\n",
      "[  48.8125786   -85.49511577  270.22532535  201.91767903   17.41308665\n",
      "  -19.04346706 -136.47737574  122.26503311  247.60074795   95.59855598]\n",
      "alpha: 1   Mean Square error: 3221.42 \n",
      "\n",
      "[ 19.7381678   -2.31653333  62.15925697  49.54623554  18.92715009\n",
      "  12.4573754  -39.60090964  42.81978067  61.57147383  35.24730561]\n",
      "alpha: 10   Mean Square error: 4589.00 \n",
      "\n"
     ]
    }
   ],
   "source": [
    "def ridgeModel(alpha):\n",
    "    #建立線性回歸模型 with Ridge 正規化\n",
    "    ridge = linear_model.Ridge(alpha)\n",
    "    \n",
    "    #訓練回歸模型\n",
    "    ridge.fit(X_train, y_train)\n",
    "\n",
    "    #測試回歸模型\n",
    "    y_pred = ridge.predict(X_test)\n",
    "    \n",
    "    print(ridge.coef_)\n",
    "    \n",
    "    #預測值與實際時的差距 使用MSE\n",
    "    print('alpha: %s ' % alpha, ' Mean Square error: %.2f' % mean_squared_error(y_test, y_pred), '\\n')\n",
    "    \n",
    "    \n",
    "for i in alphalist:\n",
    "    ridgeModel(i)\n",
    "\n"
   ]
  },
  {
   "cell_type": "code",
   "execution_count": null,
   "metadata": {},
   "outputs": [],
   "source": [
    "#LASSO 及 Ridge 結果最好的情形是alpha=0.1的情況下 "
   ]
  },
  {
   "cell_type": "code",
   "execution_count": null,
   "metadata": {},
   "outputs": [],
   "source": []
  },
  {
   "cell_type": "code",
   "execution_count": null,
   "metadata": {},
   "outputs": [],
   "source": []
  }
 ],
 "metadata": {
  "kernelspec": {
   "display_name": "Python 3",
   "language": "python",
   "name": "python3"
  },
  "language_info": {
   "codemirror_mode": {
    "name": "ipython",
    "version": 3
   },
   "file_extension": ".py",
   "mimetype": "text/x-python",
   "name": "python",
   "nbconvert_exporter": "python",
   "pygments_lexer": "ipython3",
   "version": "3.7.4"
  }
 },
 "nbformat": 4,
 "nbformat_minor": 2
}
