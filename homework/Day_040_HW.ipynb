{
 "cells": [
  {
   "cell_type": "markdown",
   "metadata": {},
   "source": [
    "## [作業重點]\n",
    "使用 Sklearn 中的 Lasso, Ridge 模型，來訓練各種資料集，務必了解送進去模型訓練的**資料型態**為何，也請了解模型中各項參數的意義。\n",
    "\n",
    "機器學習的模型非常多種，但要訓練的資料多半有固定的格式，確保你了解訓練資料的格式為何，這樣在應用新模型時，就能夠最快的上手開始訓練！"
   ]
  },
  {
   "cell_type": "markdown",
   "metadata": {},
   "source": [
    "## 練習時間\n",
    "試著使用 sklearn datasets 的其他資料集 (boston, ...)，來訓練自己的線性迴歸模型，並加上適當的正則化來觀察訓練情形。"
   ]
  },
  {
   "cell_type": "code",
   "execution_count": 11,
   "metadata": {},
   "outputs": [],
   "source": [
    "import numpy as np\n",
    "import matplotlib.pyplot as plt\n",
    "from sklearn import datasets, linear_model\n",
    "from sklearn.model_selection import train_test_split\n",
    "from sklearn.metrics import mean_squared_error, r2_score"
   ]
  },
  {
   "cell_type": "code",
   "execution_count": 122,
   "metadata": {},
   "outputs": [],
   "source": [
    "#讀取Boston\n",
    "btn = datasets.load_diabetes()\n",
    "\n",
    "#切分訓練/測試集\n",
    "X_train, X_test, y_train, y_test = train_test_split(btn.data, btn.target, test_size=0.2, random_state=4)\n",
    "\n",
    "#建立線性回歸模型\n",
    "lr = linear_model.LinearRegression()\n",
    "\n",
    "#訓練回歸模型\n",
    "lr.fit(X_train, y_train)\n",
    "\n",
    "#測試回歸模型\n",
    "y_pred = lr.predict(X_test)"
   ]
  },
  {
   "cell_type": "code",
   "execution_count": 71,
   "metadata": {},
   "outputs": [
    {
     "name": "stdout",
     "output_type": "stream",
     "text": [
      "[  33.40877011 -292.24672884  481.07153405  369.06269614 -966.37849405\n",
      "  589.81383056  232.61924401  288.3263166   802.72704593   37.81285219]\n"
     ]
    }
   ],
   "source": [
    "print(lr.coef_)"
   ]
  },
  {
   "cell_type": "code",
   "execution_count": 72,
   "metadata": {},
   "outputs": [
    {
     "name": "stdout",
     "output_type": "stream",
     "text": [
      "Mean Square error 2939.42\n"
     ]
    }
   ],
   "source": [
    "#預測值與實際時的差距 使用MSE\n",
    "print('Mean Square error %.2f' % mean_squared_error(y_test, y_pred))"
   ]
  },
  {
   "cell_type": "code",
   "execution_count": 116,
   "metadata": {},
   "outputs": [],
   "source": [
    "alphalist =[0.001, 0.01, 0.1, 1 ,10]"
   ]
  },
  {
   "cell_type": "markdown",
   "metadata": {},
   "source": [
    "### LASSO "
   ]
  },
  {
   "cell_type": "code",
   "execution_count": 120,
   "metadata": {},
   "outputs": [
    {
     "name": "stdout",
     "output_type": "stream",
     "text": [
      "[  33.67286538 -291.04286293  481.70890733  368.32942092 -898.42842086\n",
      "  538.72767558  199.24998287  274.4977345   778.40546382   37.12251045]\n",
      "alpha: 0.001   Mean Square error: 2933.45 \n",
      "\n",
      "[  33.90076776 -279.56061243  487.80357151  362.98760434 -454.07885677\n",
      "  194.49093524   -0.          204.9980631   615.48787274   31.81300179]\n",
      "alpha: 0.01   Mean Square error: 2905.60 \n",
      "\n",
      "[   0.         -198.92007047  480.66671601  330.63402569  -26.57095924\n",
      "   -0.         -209.48136823    0.          490.41780815    0.49979948]\n",
      "alpha: 0.1   Mean Square error: 2877.23 \n",
      "\n",
      "[  0.          -0.         321.203877    57.74744332   0.\n",
      "   0.          -0.           0.         332.41817196   0.        ]\n",
      "alpha: 1   Mean Square error: 3505.84 \n",
      "\n",
      "[ 0.  0.  0.  0.  0.  0. -0.  0.  0.  0.]\n",
      "alpha: 10   Mean Square error: 5460.56 \n",
      "\n"
     ]
    }
   ],
   "source": [
    "def lassoModel(alpha):\n",
    "    #建立線性回歸模型 with LASSO 正規化\n",
    "    lso = linear_model.Lasso(alpha)\n",
    "\n",
    "    #訓練回歸模型\n",
    "    lso.fit(X_train, y_train)\n",
    "\n",
    "    #測試回歸模型\n",
    "    y_pred = lso.predict(X_test)\n",
    "    print(lso.coef_)\n",
    "    \n",
    "    #預測值與實際時的差距 使用MSE\n",
    "    print('alpha: %s ' % alpha, ' Mean Square error: %.2f' % mean_squared_error(y_test, y_pred), '\\n')\n",
    "    \n",
    "    \n",
    "for i in alphalist:\n",
    "    lassoModel(i)"
   ]
  },
  {
   "cell_type": "markdown",
   "metadata": {},
   "source": [
    "### Ridge"
   ]
  },
  {
   "cell_type": "code",
   "execution_count": 121,
   "metadata": {},
   "outputs": [
    {
     "name": "stdout",
     "output_type": "stream",
     "text": [
      "[  34.52119955 -290.84626721  482.39358233  368.07364661 -852.49470901\n",
      "  501.62792289  180.12864616  270.76704605  759.76023254   37.49066186]\n",
      "alpha: 0.001   Mean Square error: 2931.77 \n",
      "\n",
      "[  38.87160545 -283.00366006  485.04076958  362.44759568 -419.24994069\n",
      "  168.12496699  -18.83740996  203.84384894  594.04104023   37.9221091 ]\n",
      "alpha: 0.01   Mean Square error: 2908.78 \n",
      "\n",
      "[  44.02025512 -241.69666596  452.98163524  332.04993719  -76.34010147\n",
      "  -68.52063199 -164.98817213  149.9687712   431.61985919   58.51762582]\n",
      "alpha: 0.1   Mean Square error: 2894.59 \n",
      "\n",
      "[  48.8125786   -85.49511577  270.22532535  201.91767903   17.41308665\n",
      "  -19.04346706 -136.47737574  122.26503311  247.60074795   95.59855598]\n",
      "alpha: 1   Mean Square error: 3221.42 \n",
      "\n",
      "[ 19.7381678   -2.31653333  62.15925697  49.54623554  18.92715009\n",
      "  12.4573754  -39.60090964  42.81978067  61.57147383  35.24730561]\n",
      "alpha: 10   Mean Square error: 4589.00 \n",
      "\n"
     ]
    }
   ],
   "source": [
    "def ridgeModel(alpha):\n",
    "    #建立線性回歸模型 with Ridge 正規化\n",
    "    ridge = linear_model.Ridge(alpha)\n",
    "    \n",
    "    #訓練回歸模型\n",
    "    ridge.fit(X_train, y_train)\n",
    "\n",
    "    #測試回歸模型\n",
    "    y_pred = ridge.predict(X_test)\n",
    "    \n",
    "    print(ridge.coef_)\n",
    "    \n",
    "    #預測值與實際時的差距 使用MSE\n",
    "    print('alpha: %s ' % alpha, ' Mean Square error: %.2f' % mean_squared_error(y_test, y_pred), '\\n')\n",
    "    \n",
    "    \n",
    "for i in alphalist:\n",
    "    ridgeModel(i)\n",
    "\n"
   ]
  },
  {
   "cell_type": "code",
   "execution_count": null,
   "metadata": {},
   "outputs": [],
   "source": [
    "#LASSO 及 Ridge 結果最好的情形是alpha=0.1的情況下 "
   ]
  },
  {
   "cell_type": "code",
   "execution_count": null,
   "metadata": {},
   "outputs": [],
   "source": []
  },
  {
   "cell_type": "code",
   "execution_count": null,
   "metadata": {},
   "outputs": [],
   "source": []
  }
 ],
 "metadata": {
  "kernelspec": {
   "display_name": "Python 3",
   "language": "python",
   "name": "python3"
  },
  "language_info": {
   "codemirror_mode": {
    "name": "ipython",
    "version": 3
   },
   "file_extension": ".py",
   "mimetype": "text/x-python",
   "name": "python",
   "nbconvert_exporter": "python",
   "pygments_lexer": "ipython3",
   "version": "3.7.4"
  }
 },
 "nbformat": 4,
 "nbformat_minor": 2
}
