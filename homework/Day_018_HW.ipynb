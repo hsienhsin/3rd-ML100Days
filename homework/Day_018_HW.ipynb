{
 "cells": [
  {
   "cell_type": "markdown",
   "metadata": {
    "collapsed": true
   },
   "source": [
    "# [作業目標]\n",
    "- 使用 Day 17 剛學到的方法, 對較完整的資料生成離散化特徵\n",
    "- 觀察上述離散化特徵, 對於目標值的預測有沒有幫助"
   ]
  },
  {
   "cell_type": "markdown",
   "metadata": {
    "collapsed": true
   },
   "source": [
    "# [作業重點]\n",
    "- 仿照 Day 17 的語法, 將年齡資料 ('DAYS_BIRTH' 除以 365) 離散化\n",
    "- 繪製上述的 \"離散化標籤\" 與目標值 ('TARGET') 的長條圖"
   ]
  },
  {
   "cell_type": "code",
   "execution_count": 13,
   "metadata": {},
   "outputs": [],
   "source": [
    "# 載入需要的套件\n",
    "import os\n",
    "import numpy as np\n",
    "import pandas as pd\n",
    "import matplotlib.pyplot as plt\n",
    "import seaborn as sns\n",
    "%matplotlib inline\n",
    "\n",
    "# 設定 data_path\n",
    "dir_data = './data/'"
   ]
  },
  {
   "cell_type": "markdown",
   "metadata": {},
   "source": [
    "### 之前做過的處理"
   ]
  },
  {
   "cell_type": "code",
   "execution_count": 2,
   "metadata": {},
   "outputs": [
    {
     "data": {
      "text/plain": [
       "(307511, 122)"
      ]
     },
     "execution_count": 2,
     "metadata": {},
     "output_type": "execute_result"
    }
   ],
   "source": [
    "# 讀取資料檔\n",
    "f_app_train = os.path.join(dir_data, 'application_train.csv')\n",
    "app_train = pd.read_csv(f_app_train)\n",
    "app_train.shape"
   ]
  },
  {
   "cell_type": "code",
   "execution_count": 3,
   "metadata": {},
   "outputs": [
    {
     "name": "stdout",
     "output_type": "stream",
     "text": [
      "(307511, 122)\n"
     ]
    },
    {
     "data": {
      "text/html": [
       "<div>\n",
       "<style scoped>\n",
       "    .dataframe tbody tr th:only-of-type {\n",
       "        vertical-align: middle;\n",
       "    }\n",
       "\n",
       "    .dataframe tbody tr th {\n",
       "        vertical-align: top;\n",
       "    }\n",
       "\n",
       "    .dataframe thead th {\n",
       "        text-align: right;\n",
       "    }\n",
       "</style>\n",
       "<table border=\"1\" class=\"dataframe\">\n",
       "  <thead>\n",
       "    <tr style=\"text-align: right;\">\n",
       "      <th></th>\n",
       "      <th>SK_ID_CURR</th>\n",
       "      <th>TARGET</th>\n",
       "      <th>NAME_CONTRACT_TYPE</th>\n",
       "      <th>CODE_GENDER</th>\n",
       "      <th>FLAG_OWN_CAR</th>\n",
       "      <th>FLAG_OWN_REALTY</th>\n",
       "      <th>CNT_CHILDREN</th>\n",
       "      <th>AMT_INCOME_TOTAL</th>\n",
       "      <th>AMT_CREDIT</th>\n",
       "      <th>AMT_ANNUITY</th>\n",
       "      <th>...</th>\n",
       "      <th>FLAG_DOCUMENT_18</th>\n",
       "      <th>FLAG_DOCUMENT_19</th>\n",
       "      <th>FLAG_DOCUMENT_20</th>\n",
       "      <th>FLAG_DOCUMENT_21</th>\n",
       "      <th>AMT_REQ_CREDIT_BUREAU_HOUR</th>\n",
       "      <th>AMT_REQ_CREDIT_BUREAU_DAY</th>\n",
       "      <th>AMT_REQ_CREDIT_BUREAU_WEEK</th>\n",
       "      <th>AMT_REQ_CREDIT_BUREAU_MON</th>\n",
       "      <th>AMT_REQ_CREDIT_BUREAU_QRT</th>\n",
       "      <th>AMT_REQ_CREDIT_BUREAU_YEAR</th>\n",
       "    </tr>\n",
       "  </thead>\n",
       "  <tbody>\n",
       "    <tr>\n",
       "      <th>0</th>\n",
       "      <td>100002</td>\n",
       "      <td>1</td>\n",
       "      <td>0</td>\n",
       "      <td>M</td>\n",
       "      <td>0</td>\n",
       "      <td>1</td>\n",
       "      <td>0</td>\n",
       "      <td>202500.0</td>\n",
       "      <td>406597.5</td>\n",
       "      <td>24700.5</td>\n",
       "      <td>...</td>\n",
       "      <td>0</td>\n",
       "      <td>0</td>\n",
       "      <td>0</td>\n",
       "      <td>0</td>\n",
       "      <td>0.0</td>\n",
       "      <td>0.0</td>\n",
       "      <td>0.0</td>\n",
       "      <td>0.0</td>\n",
       "      <td>0.0</td>\n",
       "      <td>1.0</td>\n",
       "    </tr>\n",
       "    <tr>\n",
       "      <th>1</th>\n",
       "      <td>100003</td>\n",
       "      <td>0</td>\n",
       "      <td>0</td>\n",
       "      <td>F</td>\n",
       "      <td>0</td>\n",
       "      <td>0</td>\n",
       "      <td>0</td>\n",
       "      <td>270000.0</td>\n",
       "      <td>1293502.5</td>\n",
       "      <td>35698.5</td>\n",
       "      <td>...</td>\n",
       "      <td>0</td>\n",
       "      <td>0</td>\n",
       "      <td>0</td>\n",
       "      <td>0</td>\n",
       "      <td>0.0</td>\n",
       "      <td>0.0</td>\n",
       "      <td>0.0</td>\n",
       "      <td>0.0</td>\n",
       "      <td>0.0</td>\n",
       "      <td>0.0</td>\n",
       "    </tr>\n",
       "    <tr>\n",
       "      <th>2</th>\n",
       "      <td>100004</td>\n",
       "      <td>0</td>\n",
       "      <td>1</td>\n",
       "      <td>M</td>\n",
       "      <td>1</td>\n",
       "      <td>1</td>\n",
       "      <td>0</td>\n",
       "      <td>67500.0</td>\n",
       "      <td>135000.0</td>\n",
       "      <td>6750.0</td>\n",
       "      <td>...</td>\n",
       "      <td>0</td>\n",
       "      <td>0</td>\n",
       "      <td>0</td>\n",
       "      <td>0</td>\n",
       "      <td>0.0</td>\n",
       "      <td>0.0</td>\n",
       "      <td>0.0</td>\n",
       "      <td>0.0</td>\n",
       "      <td>0.0</td>\n",
       "      <td>0.0</td>\n",
       "    </tr>\n",
       "    <tr>\n",
       "      <th>3</th>\n",
       "      <td>100006</td>\n",
       "      <td>0</td>\n",
       "      <td>0</td>\n",
       "      <td>F</td>\n",
       "      <td>0</td>\n",
       "      <td>1</td>\n",
       "      <td>0</td>\n",
       "      <td>135000.0</td>\n",
       "      <td>312682.5</td>\n",
       "      <td>29686.5</td>\n",
       "      <td>...</td>\n",
       "      <td>0</td>\n",
       "      <td>0</td>\n",
       "      <td>0</td>\n",
       "      <td>0</td>\n",
       "      <td>NaN</td>\n",
       "      <td>NaN</td>\n",
       "      <td>NaN</td>\n",
       "      <td>NaN</td>\n",
       "      <td>NaN</td>\n",
       "      <td>NaN</td>\n",
       "    </tr>\n",
       "    <tr>\n",
       "      <th>4</th>\n",
       "      <td>100007</td>\n",
       "      <td>0</td>\n",
       "      <td>0</td>\n",
       "      <td>M</td>\n",
       "      <td>0</td>\n",
       "      <td>1</td>\n",
       "      <td>0</td>\n",
       "      <td>121500.0</td>\n",
       "      <td>513000.0</td>\n",
       "      <td>21865.5</td>\n",
       "      <td>...</td>\n",
       "      <td>0</td>\n",
       "      <td>0</td>\n",
       "      <td>0</td>\n",
       "      <td>0</td>\n",
       "      <td>0.0</td>\n",
       "      <td>0.0</td>\n",
       "      <td>0.0</td>\n",
       "      <td>0.0</td>\n",
       "      <td>0.0</td>\n",
       "      <td>0.0</td>\n",
       "    </tr>\n",
       "  </tbody>\n",
       "</table>\n",
       "<p>5 rows × 122 columns</p>\n",
       "</div>"
      ],
      "text/plain": [
       "   SK_ID_CURR  TARGET  NAME_CONTRACT_TYPE CODE_GENDER  FLAG_OWN_CAR  \\\n",
       "0      100002       1                   0           M             0   \n",
       "1      100003       0                   0           F             0   \n",
       "2      100004       0                   1           M             1   \n",
       "3      100006       0                   0           F             0   \n",
       "4      100007       0                   0           M             0   \n",
       "\n",
       "   FLAG_OWN_REALTY  CNT_CHILDREN  AMT_INCOME_TOTAL  AMT_CREDIT  AMT_ANNUITY  \\\n",
       "0                1             0          202500.0    406597.5      24700.5   \n",
       "1                0             0          270000.0   1293502.5      35698.5   \n",
       "2                1             0           67500.0    135000.0       6750.0   \n",
       "3                1             0          135000.0    312682.5      29686.5   \n",
       "4                1             0          121500.0    513000.0      21865.5   \n",
       "\n",
       "   ...  FLAG_DOCUMENT_18 FLAG_DOCUMENT_19 FLAG_DOCUMENT_20 FLAG_DOCUMENT_21  \\\n",
       "0  ...                 0                0                0                0   \n",
       "1  ...                 0                0                0                0   \n",
       "2  ...                 0                0                0                0   \n",
       "3  ...                 0                0                0                0   \n",
       "4  ...                 0                0                0                0   \n",
       "\n",
       "  AMT_REQ_CREDIT_BUREAU_HOUR AMT_REQ_CREDIT_BUREAU_DAY  \\\n",
       "0                        0.0                       0.0   \n",
       "1                        0.0                       0.0   \n",
       "2                        0.0                       0.0   \n",
       "3                        NaN                       NaN   \n",
       "4                        0.0                       0.0   \n",
       "\n",
       "   AMT_REQ_CREDIT_BUREAU_WEEK  AMT_REQ_CREDIT_BUREAU_MON  \\\n",
       "0                         0.0                        0.0   \n",
       "1                         0.0                        0.0   \n",
       "2                         0.0                        0.0   \n",
       "3                         NaN                        NaN   \n",
       "4                         0.0                        0.0   \n",
       "\n",
       "   AMT_REQ_CREDIT_BUREAU_QRT  AMT_REQ_CREDIT_BUREAU_YEAR  \n",
       "0                        0.0                         1.0  \n",
       "1                        0.0                         0.0  \n",
       "2                        0.0                         0.0  \n",
       "3                        NaN                         NaN  \n",
       "4                        0.0                         0.0  \n",
       "\n",
       "[5 rows x 122 columns]"
      ]
     },
     "execution_count": 3,
     "metadata": {},
     "output_type": "execute_result"
    }
   ],
   "source": [
    "# 將只有兩種值的類別型欄位, 做 Label Encoder, 計算相關係數時讓這些欄位可以被包含在內\n",
    "from sklearn.preprocessing import LabelEncoder\n",
    "le = LabelEncoder()\n",
    "\n",
    "# 檢查每一個 column\n",
    "for col in app_train:\n",
    "    if app_train[col].dtype == 'object':\n",
    "        # 如果只有兩種值的類別型欄位\n",
    "        if len(list(app_train[col].unique())) <= 2:\n",
    "            # 就做 Label Encoder, 以加入相關係數檢查\n",
    "            app_train[col] = le.fit_transform(app_train[col])            \n",
    "print(app_train.shape)\n",
    "app_train.head()"
   ]
  },
  {
   "cell_type": "code",
   "execution_count": 4,
   "metadata": {},
   "outputs": [],
   "source": [
    "# 受雇日數為異常值的資料, 另外設一個欄位記錄, 並將異常的日數轉成空值 (np.nan)\n",
    "app_train['DAYS_EMPLOYED_ANOM'] = app_train[\"DAYS_EMPLOYED\"] == 365243\n",
    "app_train['DAYS_EMPLOYED'].replace({365243: np.nan}, inplace = True)\n",
    "\n",
    "# 出生日數 (DAYS_BIRTH) 取絕對值 \n",
    "app_train['DAYS_BIRTH'] = abs(app_train['DAYS_BIRTH'])"
   ]
  },
  {
   "cell_type": "markdown",
   "metadata": {},
   "source": [
    "## 練習時間\n",
    "參考 Day 17 範例程式，離散化你覺得有興趣的欄位，並嘗試找出有趣的訊息"
   ]
  },
  {
   "cell_type": "markdown",
   "metadata": {
    "collapsed": true
   },
   "source": [
    "#### 年齡資料 ('DAYS_BIRTH' 除以 365) 離散化"
   ]
  },
  {
   "cell_type": "code",
   "execution_count": 6,
   "metadata": {},
   "outputs": [
    {
     "name": "stderr",
     "output_type": "stream",
     "text": [
      "C:\\ProgramData\\anaconda3\\envs\\python36\\lib\\site-packages\\ipykernel_launcher.py:3: SettingWithCopyWarning: \n",
      "A value is trying to be set on a copy of a slice from a DataFrame.\n",
      "Try using .loc[row_indexer,col_indexer] = value instead\n",
      "\n",
      "See the caveats in the documentation: http://pandas.pydata.org/pandas-docs/stable/indexing.html#indexing-view-versus-copy\n",
      "  This is separate from the ipykernel package so we can avoid doing imports until\n"
     ]
    },
    {
     "data": {
      "text/html": [
       "<div>\n",
       "<style scoped>\n",
       "    .dataframe tbody tr th:only-of-type {\n",
       "        vertical-align: middle;\n",
       "    }\n",
       "\n",
       "    .dataframe tbody tr th {\n",
       "        vertical-align: top;\n",
       "    }\n",
       "\n",
       "    .dataframe thead th {\n",
       "        text-align: right;\n",
       "    }\n",
       "</style>\n",
       "<table border=\"1\" class=\"dataframe\">\n",
       "  <thead>\n",
       "    <tr style=\"text-align: right;\">\n",
       "      <th></th>\n",
       "      <th>TARGET</th>\n",
       "      <th>DAYS_BIRTH</th>\n",
       "      <th>YEAR_BIRTH</th>\n",
       "    </tr>\n",
       "  </thead>\n",
       "  <tbody>\n",
       "    <tr>\n",
       "      <th>0</th>\n",
       "      <td>1</td>\n",
       "      <td>9461</td>\n",
       "      <td>25.920548</td>\n",
       "    </tr>\n",
       "    <tr>\n",
       "      <th>1</th>\n",
       "      <td>0</td>\n",
       "      <td>16765</td>\n",
       "      <td>45.931507</td>\n",
       "    </tr>\n",
       "    <tr>\n",
       "      <th>2</th>\n",
       "      <td>0</td>\n",
       "      <td>19046</td>\n",
       "      <td>52.180822</td>\n",
       "    </tr>\n",
       "    <tr>\n",
       "      <th>3</th>\n",
       "      <td>0</td>\n",
       "      <td>19005</td>\n",
       "      <td>52.068493</td>\n",
       "    </tr>\n",
       "    <tr>\n",
       "      <th>4</th>\n",
       "      <td>0</td>\n",
       "      <td>19932</td>\n",
       "      <td>54.608219</td>\n",
       "    </tr>\n",
       "  </tbody>\n",
       "</table>\n",
       "</div>"
      ],
      "text/plain": [
       "   TARGET  DAYS_BIRTH  YEAR_BIRTH\n",
       "0       1        9461   25.920548\n",
       "1       0       16765   45.931507\n",
       "2       0       19046   52.180822\n",
       "3       0       19005   52.068493\n",
       "4       0       19932   54.608219"
      ]
     },
     "execution_count": 6,
     "metadata": {},
     "output_type": "execute_result"
    }
   ],
   "source": [
    "#根據年齡區分不同組別(年齡區間-還款與否)\n",
    "age_data = app_train[['TARGET','DAYS_BIRTH']] #subset\n",
    "age_data['YEAR_BIRTH'] = age_data['DAYS_BIRTH'] / 365\n",
    "age_data.head()"
   ]
  },
  {
   "cell_type": "code",
   "execution_count": 16,
   "metadata": {},
   "outputs": [
    {
     "name": "stderr",
     "output_type": "stream",
     "text": [
      "C:\\ProgramData\\anaconda3\\envs\\python36\\lib\\site-packages\\ipykernel_launcher.py:2: SettingWithCopyWarning: \n",
      "A value is trying to be set on a copy of a slice from a DataFrame.\n",
      "Try using .loc[row_indexer,col_indexer] = value instead\n",
      "\n",
      "See the caveats in the documentation: http://pandas.pydata.org/pandas-docs/stable/indexing.html#indexing-view-versus-copy\n",
      "  \n"
     ]
    },
    {
     "data": {
      "text/plain": [
       "(35.099, 39.959]    41758\n",
       "(39.959, 44.819]    40350\n",
       "(30.238, 35.099]    38430\n",
       "(44.819, 49.679]    34311\n",
       "(49.679, 54.54]     33544\n",
       "(25.378, 30.238]    33127\n",
       "(54.54, 59.4]       32650\n",
       "(59.4, 64.26]       27685\n",
       "(20.469, 25.378]    13679\n",
       "(64.26, 69.121]     11977\n",
       "Name: YEAR_BINNED, dtype: int64"
      ]
     },
     "execution_count": 16,
     "metadata": {},
     "output_type": "execute_result"
    }
   ],
   "source": [
    "bin_cut = 10\n",
    "age_data['YEAR_BINNED'] = pd.cut(age_data['YEAR_BIRTH'],bins = bin_cut)\n",
    "age_data['YEAR_BINNED'].value_counts()"
   ]
  },
  {
   "cell_type": "code",
   "execution_count": 17,
   "metadata": {},
   "outputs": [
    {
     "data": {
      "text/html": [
       "<div>\n",
       "<style scoped>\n",
       "    .dataframe tbody tr th:only-of-type {\n",
       "        vertical-align: middle;\n",
       "    }\n",
       "\n",
       "    .dataframe tbody tr th {\n",
       "        vertical-align: top;\n",
       "    }\n",
       "\n",
       "    .dataframe thead th {\n",
       "        text-align: right;\n",
       "    }\n",
       "</style>\n",
       "<table border=\"1\" class=\"dataframe\">\n",
       "  <thead>\n",
       "    <tr style=\"text-align: right;\">\n",
       "      <th></th>\n",
       "      <th>TARGET</th>\n",
       "      <th>DAYS_BIRTH</th>\n",
       "      <th>YEAR_BIRTH</th>\n",
       "      <th>YEAR_GROUP</th>\n",
       "      <th>YEAR_BINNED</th>\n",
       "    </tr>\n",
       "  </thead>\n",
       "  <tbody>\n",
       "    <tr>\n",
       "      <th>0</th>\n",
       "      <td>1</td>\n",
       "      <td>9461</td>\n",
       "      <td>25.920548</td>\n",
       "      <td>(25.378, 30.238]</td>\n",
       "      <td>(25.378, 30.238]</td>\n",
       "    </tr>\n",
       "    <tr>\n",
       "      <th>1</th>\n",
       "      <td>0</td>\n",
       "      <td>16765</td>\n",
       "      <td>45.931507</td>\n",
       "      <td>(44.819, 49.679]</td>\n",
       "      <td>(44.819, 49.679]</td>\n",
       "    </tr>\n",
       "    <tr>\n",
       "      <th>2</th>\n",
       "      <td>0</td>\n",
       "      <td>19046</td>\n",
       "      <td>52.180822</td>\n",
       "      <td>(49.679, 54.54]</td>\n",
       "      <td>(49.679, 54.54]</td>\n",
       "    </tr>\n",
       "    <tr>\n",
       "      <th>3</th>\n",
       "      <td>0</td>\n",
       "      <td>19005</td>\n",
       "      <td>52.068493</td>\n",
       "      <td>(49.679, 54.54]</td>\n",
       "      <td>(49.679, 54.54]</td>\n",
       "    </tr>\n",
       "    <tr>\n",
       "      <th>4</th>\n",
       "      <td>0</td>\n",
       "      <td>19932</td>\n",
       "      <td>54.608219</td>\n",
       "      <td>(54.54, 59.4]</td>\n",
       "      <td>(54.54, 59.4]</td>\n",
       "    </tr>\n",
       "  </tbody>\n",
       "</table>\n",
       "</div>"
      ],
      "text/plain": [
       "   TARGET  DAYS_BIRTH  YEAR_BIRTH        YEAR_GROUP       YEAR_BINNED\n",
       "0       1        9461   25.920548  (25.378, 30.238]  (25.378, 30.238]\n",
       "1       0       16765   45.931507  (44.819, 49.679]  (44.819, 49.679]\n",
       "2       0       19046   52.180822   (49.679, 54.54]   (49.679, 54.54]\n",
       "3       0       19005   52.068493   (49.679, 54.54]   (49.679, 54.54]\n",
       "4       0       19932   54.608219     (54.54, 59.4]     (54.54, 59.4]"
      ]
     },
     "execution_count": 17,
     "metadata": {},
     "output_type": "execute_result"
    }
   ],
   "source": [
    "age_data.head()"
   ]
  },
  {
   "cell_type": "code",
   "execution_count": 18,
   "metadata": {},
   "outputs": [
    {
     "data": {
      "text/plain": [
       "[Interval(20.469, 25.378, closed='right'),\n",
       " Interval(25.378, 30.238, closed='right'),\n",
       " Interval(30.238, 35.099, closed='right'),\n",
       " Interval(35.099, 39.959, closed='right'),\n",
       " Interval(39.959, 44.819, closed='right'),\n",
       " Interval(44.819, 49.679, closed='right'),\n",
       " Interval(49.679, 54.54, closed='right'),\n",
       " Interval(54.54, 59.4, closed='right'),\n",
       " Interval(59.4, 64.26, closed='right'),\n",
       " Interval(64.26, 69.121, closed='right')]"
      ]
     },
     "execution_count": 18,
     "metadata": {},
     "output_type": "execute_result"
    }
   ],
   "source": [
    "year_group_sorted = sorted(age_data['YEAR_BINNED'].unique()) \n",
    "year_group_sorted"
   ]
  },
  {
   "cell_type": "code",
   "execution_count": 19,
   "metadata": {},
   "outputs": [
    {
     "data": {
      "image/png": "[encoded data removed]",
      "text/plain": [
       "<Figure size 576x432 with 1 Axes>"
      ]
     },
     "metadata": {
      "needs_background": "light"
     },
     "output_type": "display_data"
    }
   ],
   "source": [
    "plt.figure(figsize=(8,6))\n",
    "for i in range(len(year_group_sorted)):\n",
    "    sns.distplot(age_data.loc[(age_data['YEAR_BINNED'] == year_group_sorted[i]) & \\\n",
    "                              (age_data['TARGET'] == 0), 'YEAR_BIRTH'], label= str(year_group_sorted[i]))\n",
    "    sns.distplot(age_data.loc[(age_data['YEAR_BINNED'] == year_group_sorted[i]) & \\\n",
    "                              (age_data['TARGET'] == 1), 'YEAR_BIRTH'], label= str(year_group_sorted[i]))\n",
    "plt.title('KDE with Age groups')\n",
    "plt.show()"
   ]
  },
  {
   "cell_type": "code",
   "execution_count": 20,
   "metadata": {},
   "outputs": [
    {
     "data": {
      "text/html": [
       "<div>\n",
       "<style scoped>\n",
       "    .dataframe tbody tr th:only-of-type {\n",
       "        vertical-align: middle;\n",
       "    }\n",
       "\n",
       "    .dataframe tbody tr th {\n",
       "        vertical-align: top;\n",
       "    }\n",
       "\n",
       "    .dataframe thead th {\n",
       "        text-align: right;\n",
       "    }\n",
       "</style>\n",
       "<table border=\"1\" class=\"dataframe\">\n",
       "  <thead>\n",
       "    <tr style=\"text-align: right;\">\n",
       "      <th></th>\n",
       "      <th>TARGET</th>\n",
       "      <th>DAYS_BIRTH</th>\n",
       "      <th>YEAR_BIRTH</th>\n",
       "    </tr>\n",
       "    <tr>\n",
       "      <th>YEAR_GROUP</th>\n",
       "      <th></th>\n",
       "      <th></th>\n",
       "      <th></th>\n",
       "    </tr>\n",
       "  </thead>\n",
       "  <tbody>\n",
       "    <tr>\n",
       "      <th>(20.469, 25.378]</th>\n",
       "      <td>0.122012</td>\n",
       "      <td>8606.136194</td>\n",
       "      <td>23.578455</td>\n",
       "    </tr>\n",
       "    <tr>\n",
       "      <th>(25.378, 30.238]</th>\n",
       "      <td>0.111390</td>\n",
       "      <td>10244.567543</td>\n",
       "      <td>28.067308</td>\n",
       "    </tr>\n",
       "    <tr>\n",
       "      <th>(30.238, 35.099]</th>\n",
       "      <td>0.101900</td>\n",
       "      <td>11913.765912</td>\n",
       "      <td>32.640455</td>\n",
       "    </tr>\n",
       "    <tr>\n",
       "      <th>(35.099, 39.959]</th>\n",
       "      <td>0.089468</td>\n",
       "      <td>13717.780090</td>\n",
       "      <td>37.582959</td>\n",
       "    </tr>\n",
       "    <tr>\n",
       "      <th>(39.959, 44.819]</th>\n",
       "      <td>0.078984</td>\n",
       "      <td>15459.271499</td>\n",
       "      <td>42.354168</td>\n",
       "    </tr>\n",
       "    <tr>\n",
       "      <th>(44.819, 49.679]</th>\n",
       "      <td>0.074437</td>\n",
       "      <td>17230.114191</td>\n",
       "      <td>47.205792</td>\n",
       "    </tr>\n",
       "    <tr>\n",
       "      <th>(49.679, 54.54]</th>\n",
       "      <td>0.067911</td>\n",
       "      <td>19044.489208</td>\n",
       "      <td>52.176683</td>\n",
       "    </tr>\n",
       "    <tr>\n",
       "      <th>(54.54, 59.4]</th>\n",
       "      <td>0.055926</td>\n",
       "      <td>20773.446217</td>\n",
       "      <td>56.913551</td>\n",
       "    </tr>\n",
       "    <tr>\n",
       "      <th>(59.4, 64.26]</th>\n",
       "      <td>0.052953</td>\n",
       "      <td>22521.192198</td>\n",
       "      <td>61.701896</td>\n",
       "    </tr>\n",
       "    <tr>\n",
       "      <th>(64.26, 69.121]</th>\n",
       "      <td>0.041997</td>\n",
       "      <td>24066.089588</td>\n",
       "      <td>65.934492</td>\n",
       "    </tr>\n",
       "  </tbody>\n",
       "</table>\n",
       "</div>"
      ],
      "text/plain": [
       "                    TARGET    DAYS_BIRTH  YEAR_BIRTH\n",
       "YEAR_GROUP                                          \n",
       "(20.469, 25.378]  0.122012   8606.136194   23.578455\n",
       "(25.378, 30.238]  0.111390  10244.567543   28.067308\n",
       "(30.238, 35.099]  0.101900  11913.765912   32.640455\n",
       "(35.099, 39.959]  0.089468  13717.780090   37.582959\n",
       "(39.959, 44.819]  0.078984  15459.271499   42.354168\n",
       "(44.819, 49.679]  0.074437  17230.114191   47.205792\n",
       "(49.679, 54.54]   0.067911  19044.489208   52.176683\n",
       "(54.54, 59.4]     0.055926  20773.446217   56.913551\n",
       "(59.4, 64.26]     0.052953  22521.192198   61.701896\n",
       "(64.26, 69.121]   0.041997  24066.089588   65.934492"
      ]
     },
     "execution_count": 20,
     "metadata": {},
     "output_type": "execute_result"
    }
   ],
   "source": [
    "#計算每個年齡區間的TARGET, DAYS_BIRTH, YEAR_BIRTH 的平均值\n",
    "age_groups = age_data.groupby('YEAR_GROUP').mean()\n",
    "age_groups"
   ]
  },
  {
   "cell_type": "code",
   "execution_count": 21,
   "metadata": {},
   "outputs": [
    {
     "data": {
      "image/png": "[encoded data removed]",
      "text/plain": [
       "<Figure size 576x576 with 1 Axes>"
      ]
     },
     "metadata": {
      "needs_background": "light"
     },
     "output_type": "display_data"
    }
   ],
   "source": [
    "plt.figure(figsize = (8,8))\n",
    "\n",
    "px = age_groups.index\n",
    "py = age_groups['TARGET']\n",
    "sns.barplot(px, py)\n",
    "\n",
    "# Plot labeling\n",
    "plt.xticks(rotation = 75); plt.xlabel('Age Group (years)'); plt.ylabel('Failure to Repay (%)')\n",
    "plt.title('Failure to Repay by Age Group');"
   ]
  },
  {
   "cell_type": "code",
   "execution_count": null,
   "metadata": {},
   "outputs": [],
   "source": []
  },
  {
   "cell_type": "markdown",
   "metadata": {},
   "source": [
    "#### AMT_INCOME_TOTAL 離散化"
   ]
  },
  {
   "cell_type": "code",
   "execution_count": 23,
   "metadata": {},
   "outputs": [
    {
     "data": {
      "text/plain": [
       "count    3.075110e+05\n",
       "mean     1.687979e+05\n",
       "std      2.371231e+05\n",
       "min      2.565000e+04\n",
       "25%      1.125000e+05\n",
       "50%      1.471500e+05\n",
       "75%      2.025000e+05\n",
       "max      1.170000e+08\n",
       "Name: AMT_INCOME_TOTAL, dtype: float64"
      ]
     },
     "execution_count": 23,
     "metadata": {},
     "output_type": "execute_result"
    }
   ],
   "source": [
    "app_train['AMT_INCOME_TOTAL'].describe()"
   ]
  },
  {
   "cell_type": "code",
   "execution_count": 24,
   "metadata": {},
   "outputs": [],
   "source": [
    "app_train['AMT_INCOME_TOTAL_LOG'] = np.log1p(app_train['AMT_INCOME_TOTAL'])"
   ]
  },
  {
   "cell_type": "markdown",
   "metadata": {},
   "source": [
    "#### cut"
   ]
  },
  {
   "cell_type": "code",
   "execution_count": 61,
   "metadata": {},
   "outputs": [
    {
     "data": {
      "text/plain": [
       "(11.837, 12.68]     141856\n",
       "(10.995, 11.837]    140976\n",
       "(12.68, 13.522]      15492\n",
       "(10.144, 10.995]      8541\n",
       "(13.522, 14.365]       582\n",
       "(14.365, 15.208]        55\n",
       "(15.208, 16.05]          6\n",
       "(16.05, 16.893]          2\n",
       "(17.735, 18.578]         1\n",
       "(16.893, 17.735]         0\n",
       "Name: AIT_CUT, dtype: int64"
      ]
     },
     "execution_count": 61,
     "metadata": {},
     "output_type": "execute_result"
    }
   ],
   "source": [
    "app_train['AIT_CUT'] = pd.cut(app_train['AMT_INCOME_TOTAL_LOG'],10)\n",
    "app_train['AIT_CUT'].value_counts()"
   ]
  },
  {
   "cell_type": "code",
   "execution_count": 62,
   "metadata": {},
   "outputs": [
    {
     "data": {
      "text/html": [
       "<div>\n",
       "<style scoped>\n",
       "    .dataframe tbody tr th:only-of-type {\n",
       "        vertical-align: middle;\n",
       "    }\n",
       "\n",
       "    .dataframe tbody tr th {\n",
       "        vertical-align: top;\n",
       "    }\n",
       "\n",
       "    .dataframe thead th {\n",
       "        text-align: right;\n",
       "    }\n",
       "</style>\n",
       "<table border=\"1\" class=\"dataframe\">\n",
       "  <thead>\n",
       "    <tr style=\"text-align: right;\">\n",
       "      <th></th>\n",
       "      <th>TARGET</th>\n",
       "      <th>AMT_INCOME_TOTAL_LOG</th>\n",
       "      <th>AIT_CUT</th>\n",
       "    </tr>\n",
       "  </thead>\n",
       "  <tbody>\n",
       "    <tr>\n",
       "      <th>0</th>\n",
       "      <td>1</td>\n",
       "      <td>12.218500</td>\n",
       "      <td>(11.837, 12.68]</td>\n",
       "    </tr>\n",
       "    <tr>\n",
       "      <th>1</th>\n",
       "      <td>0</td>\n",
       "      <td>12.506181</td>\n",
       "      <td>(11.837, 12.68]</td>\n",
       "    </tr>\n",
       "    <tr>\n",
       "      <th>2</th>\n",
       "      <td>0</td>\n",
       "      <td>11.119898</td>\n",
       "      <td>(10.995, 11.837]</td>\n",
       "    </tr>\n",
       "    <tr>\n",
       "      <th>3</th>\n",
       "      <td>0</td>\n",
       "      <td>11.813037</td>\n",
       "      <td>(10.995, 11.837]</td>\n",
       "    </tr>\n",
       "    <tr>\n",
       "      <th>4</th>\n",
       "      <td>0</td>\n",
       "      <td>11.707678</td>\n",
       "      <td>(10.995, 11.837]</td>\n",
       "    </tr>\n",
       "  </tbody>\n",
       "</table>\n",
       "</div>"
      ],
      "text/plain": [
       "   TARGET  AMT_INCOME_TOTAL_LOG           AIT_CUT\n",
       "0       1             12.218500   (11.837, 12.68]\n",
       "1       0             12.506181   (11.837, 12.68]\n",
       "2       0             11.119898  (10.995, 11.837]\n",
       "3       0             11.813037  (10.995, 11.837]\n",
       "4       0             11.707678  (10.995, 11.837]"
      ]
     },
     "execution_count": 62,
     "metadata": {},
     "output_type": "execute_result"
    }
   ],
   "source": [
    "amt_data = app_train[['TARGET','AMT_INCOME_TOTAL_LOG','AIT_CUT']]\n",
    "amt_data.head()"
   ]
  },
  {
   "cell_type": "code",
   "execution_count": 63,
   "metadata": {},
   "outputs": [
    {
     "name": "stdout",
     "output_type": "stream",
     "text": [
      "[Interval(10.144, 10.995, closed='right'), Interval(10.995, 11.837, closed='right'), Interval(11.837, 12.68, closed='right'), Interval(12.68, 13.522, closed='right'), Interval(13.522, 14.365, closed='right'), Interval(14.365, 15.208, closed='right'), Interval(15.208, 16.05, closed='right'), Interval(16.05, 16.893, closed='right'), Interval(17.735, 18.578, closed='right')]\n"
     ]
    }
   ],
   "source": [
    "ait_sorted = sorted(amt_data['AIT_CUT'].unique())\n",
    "print(ait_sorted)"
   ]
  },
  {
   "cell_type": "code",
   "execution_count": 64,
   "metadata": {},
   "outputs": [
    {
     "name": "stderr",
     "output_type": "stream",
     "text": [
      "C:\\ProgramData\\anaconda3\\envs\\python36\\lib\\site-packages\\seaborn\\distributions.py:198: RuntimeWarning: Mean of empty slice.\n",
      "  line, = ax.plot(a.mean(), 0)\n",
      "C:\\ProgramData\\anaconda3\\envs\\python36\\lib\\site-packages\\numpy\\core\\_methods.py:85: RuntimeWarning: invalid value encountered in double_scalars\n",
      "  ret = ret.dtype.type(ret / rcount)\n",
      "C:\\ProgramData\\anaconda3\\envs\\python36\\lib\\site-packages\\numpy\\lib\\histograms.py:893: RuntimeWarning: invalid value encountered in true_divide\n",
      "  return n/db/n.sum(), bin_edges\n",
      "C:\\ProgramData\\anaconda3\\envs\\python36\\lib\\site-packages\\numpy\\core\\_methods.py:140: RuntimeWarning: Degrees of freedom <= 0 for slice\n",
      "  keepdims=keepdims)\n",
      "C:\\ProgramData\\anaconda3\\envs\\python36\\lib\\site-packages\\numpy\\core\\_methods.py:132: RuntimeWarning: invalid value encountered in double_scalars\n",
      "  ret = ret.dtype.type(ret / rcount)\n"
     ]
    },
    {
     "data": {
      "image/png": "[encoded data removed]",
      "text/plain": [
       "<Figure size 432x288 with 1 Axes>"
      ]
     },
     "metadata": {
      "needs_background": "light"
     },
     "output_type": "display_data"
    }
   ],
   "source": [
    "plt.figure(figsize=(6,4))\n",
    "for i in range(len(ait_sorted)):\n",
    "    sns.distplot(amt_data.loc[(amt_data['AIT_CUT'] == ait_sorted[i]) & \\\n",
    "                              (amt_data['TARGET'] ==0), 'AMT_INCOME_TOTAL_LOG'], label =str(ait_sorted[i]))\n",
    "    sns.distplot(amt_data.loc[(amt_data['AIT_CUT'] == ait_sorted[i]) & \\\n",
    "                              (amt_data['TARGET'] ==1), 'AMT_INCOME_TOTAL_LOG'], label =str(ait_sorted[i]))\n",
    "plt.show()"
   ]
  },
  {
   "cell_type": "code",
   "execution_count": 65,
   "metadata": {},
   "outputs": [
    {
     "data": {
      "text/html": [
       "<div>\n",
       "<style scoped>\n",
       "    .dataframe tbody tr th:only-of-type {\n",
       "        vertical-align: middle;\n",
       "    }\n",
       "\n",
       "    .dataframe tbody tr th {\n",
       "        vertical-align: top;\n",
       "    }\n",
       "\n",
       "    .dataframe thead th {\n",
       "        text-align: right;\n",
       "    }\n",
       "</style>\n",
       "<table border=\"1\" class=\"dataframe\">\n",
       "  <thead>\n",
       "    <tr style=\"text-align: right;\">\n",
       "      <th></th>\n",
       "      <th>TARGET</th>\n",
       "      <th>AMT_INCOME_TOTAL_LOG</th>\n",
       "    </tr>\n",
       "    <tr>\n",
       "      <th>AIT_CUT</th>\n",
       "      <th></th>\n",
       "      <th></th>\n",
       "    </tr>\n",
       "  </thead>\n",
       "  <tbody>\n",
       "    <tr>\n",
       "      <th>(10.144, 10.995]</th>\n",
       "      <td>0.074581</td>\n",
       "      <td>10.783320</td>\n",
       "    </tr>\n",
       "    <tr>\n",
       "      <th>(10.995, 11.837]</th>\n",
       "      <td>0.084837</td>\n",
       "      <td>11.558493</td>\n",
       "    </tr>\n",
       "    <tr>\n",
       "      <th>(11.837, 12.68]</th>\n",
       "      <td>0.079510</td>\n",
       "      <td>12.205964</td>\n",
       "    </tr>\n",
       "    <tr>\n",
       "      <th>(12.68, 13.522]</th>\n",
       "      <td>0.059127</td>\n",
       "      <td>12.922674</td>\n",
       "    </tr>\n",
       "    <tr>\n",
       "      <th>(13.522, 14.365]</th>\n",
       "      <td>0.049828</td>\n",
       "      <td>13.776871</td>\n",
       "    </tr>\n",
       "    <tr>\n",
       "      <th>(14.365, 15.208]</th>\n",
       "      <td>0.054545</td>\n",
       "      <td>14.605626</td>\n",
       "    </tr>\n",
       "    <tr>\n",
       "      <th>(15.208, 16.05]</th>\n",
       "      <td>0.000000</td>\n",
       "      <td>15.502690</td>\n",
       "    </tr>\n",
       "    <tr>\n",
       "      <th>(16.05, 16.893]</th>\n",
       "      <td>0.000000</td>\n",
       "      <td>16.562044</td>\n",
       "    </tr>\n",
       "    <tr>\n",
       "      <th>(16.893, 17.735]</th>\n",
       "      <td>NaN</td>\n",
       "      <td>NaN</td>\n",
       "    </tr>\n",
       "    <tr>\n",
       "      <th>(17.735, 18.578]</th>\n",
       "      <td>1.000000</td>\n",
       "      <td>18.577685</td>\n",
       "    </tr>\n",
       "  </tbody>\n",
       "</table>\n",
       "</div>"
      ],
      "text/plain": [
       "                    TARGET  AMT_INCOME_TOTAL_LOG\n",
       "AIT_CUT                                         \n",
       "(10.144, 10.995]  0.074581             10.783320\n",
       "(10.995, 11.837]  0.084837             11.558493\n",
       "(11.837, 12.68]   0.079510             12.205964\n",
       "(12.68, 13.522]   0.059127             12.922674\n",
       "(13.522, 14.365]  0.049828             13.776871\n",
       "(14.365, 15.208]  0.054545             14.605626\n",
       "(15.208, 16.05]   0.000000             15.502690\n",
       "(16.05, 16.893]   0.000000             16.562044\n",
       "(16.893, 17.735]       NaN                   NaN\n",
       "(17.735, 18.578]  1.000000             18.577685"
      ]
     },
     "execution_count": 65,
     "metadata": {},
     "output_type": "execute_result"
    }
   ],
   "source": [
    "amt_groups = amt_data.groupby('AIT_CUT').mean()\n",
    "amt_groups"
   ]
  },
  {
   "cell_type": "code",
   "execution_count": 66,
   "metadata": {},
   "outputs": [
    {
     "data": {
      "image/png": "[encoded data removed]",
      "text/plain": [
       "<Figure size 576x576 with 1 Axes>"
      ]
     },
     "metadata": {
      "needs_background": "light"
     },
     "output_type": "display_data"
    }
   ],
   "source": [
    "plt.figure(figsize = (8, 8))\n",
    "\n",
    "# 以income區間為 x, target 為 y 繪製 barplot\n",
    "\"\"\"\n",
    "Your Code Here\n",
    "\"\"\"\n",
    "px = amt_groups.index\n",
    "py = amt_groups['TARGET']\n",
    "sns.barplot(px, py)\n",
    "\n",
    "# Plot labeling\n",
    "plt.xticks(rotation = 75); plt.xlabel('Amt Group (total_income)'); plt.ylabel('Failure to Repay (%)')\n",
    "plt.title('Failure to Repay by Amt Group');"
   ]
  },
  {
   "cell_type": "code",
   "execution_count": null,
   "metadata": {},
   "outputs": [],
   "source": []
  },
  {
   "cell_type": "code",
   "execution_count": null,
   "metadata": {},
   "outputs": [],
   "source": []
  },
  {
   "cell_type": "markdown",
   "metadata": {},
   "source": [
    "#### qcut"
   ]
  },
  {
   "cell_type": "code",
   "execution_count": 72,
   "metadata": {},
   "outputs": [
    {
     "data": {
      "text/plain": [
       "(11.631, 11.813]    48849\n",
       "(12.101, 12.324]    44809\n",
       "(11.503, 11.631]    36907\n",
       "(10.151, 11.302]    33391\n",
       "(11.899, 11.995]    31120\n",
       "(11.995, 12.101]    30704\n",
       "(11.302, 11.503]    30280\n",
       "(12.506, 18.578]    27161\n",
       "(12.324, 12.506]    19957\n",
       "(11.813, 11.899]     4333\n",
       "Name: AIT_QCUT, dtype: int64"
      ]
     },
     "execution_count": 72,
     "metadata": {},
     "output_type": "execute_result"
    }
   ],
   "source": [
    "app_train['AIT_QCUT'] = pd.qcut(app_train['AMT_INCOME_TOTAL_LOG'],10)\n",
    "app_train['AIT_QCUT'].value_counts()"
   ]
  },
  {
   "cell_type": "code",
   "execution_count": 73,
   "metadata": {},
   "outputs": [
    {
     "data": {
      "text/html": [
       "<div>\n",
       "<style scoped>\n",
       "    .dataframe tbody tr th:only-of-type {\n",
       "        vertical-align: middle;\n",
       "    }\n",
       "\n",
       "    .dataframe tbody tr th {\n",
       "        vertical-align: top;\n",
       "    }\n",
       "\n",
       "    .dataframe thead th {\n",
       "        text-align: right;\n",
       "    }\n",
       "</style>\n",
       "<table border=\"1\" class=\"dataframe\">\n",
       "  <thead>\n",
       "    <tr style=\"text-align: right;\">\n",
       "      <th></th>\n",
       "      <th>TARGET</th>\n",
       "      <th>AMT_INCOME_TOTAL_LOG</th>\n",
       "      <th>AIT_QCUT</th>\n",
       "    </tr>\n",
       "  </thead>\n",
       "  <tbody>\n",
       "    <tr>\n",
       "      <th>0</th>\n",
       "      <td>1</td>\n",
       "      <td>12.218500</td>\n",
       "      <td>(12.101, 12.324]</td>\n",
       "    </tr>\n",
       "    <tr>\n",
       "      <th>1</th>\n",
       "      <td>0</td>\n",
       "      <td>12.506181</td>\n",
       "      <td>(12.324, 12.506]</td>\n",
       "    </tr>\n",
       "    <tr>\n",
       "      <th>2</th>\n",
       "      <td>0</td>\n",
       "      <td>11.119898</td>\n",
       "      <td>(10.151, 11.302]</td>\n",
       "    </tr>\n",
       "    <tr>\n",
       "      <th>3</th>\n",
       "      <td>0</td>\n",
       "      <td>11.813037</td>\n",
       "      <td>(11.631, 11.813]</td>\n",
       "    </tr>\n",
       "    <tr>\n",
       "      <th>4</th>\n",
       "      <td>0</td>\n",
       "      <td>11.707678</td>\n",
       "      <td>(11.631, 11.813]</td>\n",
       "    </tr>\n",
       "  </tbody>\n",
       "</table>\n",
       "</div>"
      ],
      "text/plain": [
       "   TARGET  AMT_INCOME_TOTAL_LOG          AIT_QCUT\n",
       "0       1             12.218500  (12.101, 12.324]\n",
       "1       0             12.506181  (12.324, 12.506]\n",
       "2       0             11.119898  (10.151, 11.302]\n",
       "3       0             11.813037  (11.631, 11.813]\n",
       "4       0             11.707678  (11.631, 11.813]"
      ]
     },
     "execution_count": 73,
     "metadata": {},
     "output_type": "execute_result"
    }
   ],
   "source": [
    "amt_data = app_train[['TARGET','AMT_INCOME_TOTAL_LOG','AIT_QCUT']]\n",
    "amt_data.head()"
   ]
  },
  {
   "cell_type": "code",
   "execution_count": 74,
   "metadata": {},
   "outputs": [
    {
     "name": "stdout",
     "output_type": "stream",
     "text": [
      "[Interval(10.151, 11.302, closed='right'), Interval(11.302, 11.503, closed='right'), Interval(11.503, 11.631, closed='right'), Interval(11.631, 11.813, closed='right'), Interval(11.813, 11.899, closed='right'), Interval(11.899, 11.995, closed='right'), Interval(11.995, 12.101, closed='right'), Interval(12.101, 12.324, closed='right'), Interval(12.324, 12.506, closed='right'), Interval(12.506, 18.578, closed='right')]\n"
     ]
    }
   ],
   "source": [
    "ait_sorted = sorted(amt_data['AIT_QCUT'].unique())\n",
    "print(ait_sorted)"
   ]
  },
  {
   "cell_type": "code",
   "execution_count": 75,
   "metadata": {},
   "outputs": [
    {
     "data": {
      "image/png": "[encoded data removed]",
      "text/plain": [
       "<Figure size 432x288 with 1 Axes>"
      ]
     },
     "metadata": {
      "needs_background": "light"
     },
     "output_type": "display_data"
    }
   ],
   "source": [
    "plt.figure(figsize=(6,4))\n",
    "for i in range(len(ait_sorted)):\n",
    "    sns.distplot(amt_data.loc[(amt_data['AIT_QCUT'] == ait_sorted[i]) & \\\n",
    "                              (amt_data['TARGET'] ==0), 'AMT_INCOME_TOTAL_LOG'], label =str(ait_sorted[i]))\n",
    "    sns.distplot(amt_data.loc[(amt_data['AIT_QCUT'] == ait_sorted[i]) & \\\n",
    "                              (amt_data['TARGET'] ==1), 'AMT_INCOME_TOTAL_LOG'], label =str(ait_sorted[i]))\n",
    "plt.show()"
   ]
  },
  {
   "cell_type": "code",
   "execution_count": 76,
   "metadata": {},
   "outputs": [
    {
     "data": {
      "text/html": [
       "<div>\n",
       "<style scoped>\n",
       "    .dataframe tbody tr th:only-of-type {\n",
       "        vertical-align: middle;\n",
       "    }\n",
       "\n",
       "    .dataframe tbody tr th {\n",
       "        vertical-align: top;\n",
       "    }\n",
       "\n",
       "    .dataframe thead th {\n",
       "        text-align: right;\n",
       "    }\n",
       "</style>\n",
       "<table border=\"1\" class=\"dataframe\">\n",
       "  <thead>\n",
       "    <tr style=\"text-align: right;\">\n",
       "      <th></th>\n",
       "      <th>TARGET</th>\n",
       "      <th>AMT_INCOME_TOTAL_LOG</th>\n",
       "    </tr>\n",
       "    <tr>\n",
       "      <th>AIT_QCUT</th>\n",
       "      <th></th>\n",
       "      <th></th>\n",
       "    </tr>\n",
       "  </thead>\n",
       "  <tbody>\n",
       "    <tr>\n",
       "      <th>(10.151, 11.302]</th>\n",
       "      <td>0.081908</td>\n",
       "      <td>11.081654</td>\n",
       "    </tr>\n",
       "    <tr>\n",
       "      <th>(11.302, 11.503]</th>\n",
       "      <td>0.082232</td>\n",
       "      <td>11.418929</td>\n",
       "    </tr>\n",
       "    <tr>\n",
       "      <th>(11.503, 11.631]</th>\n",
       "      <td>0.087192</td>\n",
       "      <td>11.619953</td>\n",
       "    </tr>\n",
       "    <tr>\n",
       "      <th>(11.631, 11.813]</th>\n",
       "      <td>0.084894</td>\n",
       "      <td>11.788482</td>\n",
       "    </tr>\n",
       "    <tr>\n",
       "      <th>(11.813, 11.899]</th>\n",
       "      <td>0.090007</td>\n",
       "      <td>11.870174</td>\n",
       "    </tr>\n",
       "    <tr>\n",
       "      <th>(11.899, 11.995]</th>\n",
       "      <td>0.086407</td>\n",
       "      <td>11.964789</td>\n",
       "    </tr>\n",
       "    <tr>\n",
       "      <th>(11.995, 12.101]</th>\n",
       "      <td>0.084224</td>\n",
       "      <td>12.089604</td>\n",
       "    </tr>\n",
       "    <tr>\n",
       "      <th>(12.101, 12.324]</th>\n",
       "      <td>0.078065</td>\n",
       "      <td>12.266063</td>\n",
       "    </tr>\n",
       "    <tr>\n",
       "      <th>(12.324, 12.506]</th>\n",
       "      <td>0.070401</td>\n",
       "      <td>12.465302</td>\n",
       "    </tr>\n",
       "    <tr>\n",
       "      <th>(12.506, 18.578]</th>\n",
       "      <td>0.061375</td>\n",
       "      <td>12.825048</td>\n",
       "    </tr>\n",
       "  </tbody>\n",
       "</table>\n",
       "</div>"
      ],
      "text/plain": [
       "                    TARGET  AMT_INCOME_TOTAL_LOG\n",
       "AIT_QCUT                                        \n",
       "(10.151, 11.302]  0.081908             11.081654\n",
       "(11.302, 11.503]  0.082232             11.418929\n",
       "(11.503, 11.631]  0.087192             11.619953\n",
       "(11.631, 11.813]  0.084894             11.788482\n",
       "(11.813, 11.899]  0.090007             11.870174\n",
       "(11.899, 11.995]  0.086407             11.964789\n",
       "(11.995, 12.101]  0.084224             12.089604\n",
       "(12.101, 12.324]  0.078065             12.266063\n",
       "(12.324, 12.506]  0.070401             12.465302\n",
       "(12.506, 18.578]  0.061375             12.825048"
      ]
     },
     "execution_count": 76,
     "metadata": {},
     "output_type": "execute_result"
    }
   ],
   "source": [
    "amt_groups = amt_data.groupby('AIT_QCUT').mean()\n",
    "amt_groups"
   ]
  },
  {
   "cell_type": "code",
   "execution_count": 77,
   "metadata": {},
   "outputs": [
    {
     "data": {
      "image/png": "[encoded data removed]",
      "text/plain": [
       "<Figure size 576x576 with 1 Axes>"
      ]
     },
     "metadata": {
      "needs_background": "light"
     },
     "output_type": "display_data"
    }
   ],
   "source": [
    "plt.figure(figsize = (8, 8))\n",
    "\n",
    "# 以income區間為 x, target 為 y 繪製 barplot\n",
    "\"\"\"\n",
    "Your Code Here\n",
    "\"\"\"\n",
    "px = amt_groups.index\n",
    "py = amt_groups['TARGET']\n",
    "sns.barplot(px, py)\n",
    "\n",
    "# Plot labeling\n",
    "plt.xticks(rotation = 75); plt.xlabel('Amt Group (total_income)'); plt.ylabel('Failure to Repay (%)')\n",
    "plt.title('Failure to Repay by Amt Group');"
   ]
  },
  {
   "cell_type": "code",
   "execution_count": null,
   "metadata": {},
   "outputs": [],
   "source": []
  },
  {
   "cell_type": "code",
   "execution_count": null,
   "metadata": {},
   "outputs": [],
   "source": []
  }
 ],
 "metadata": {
  "kernelspec": {
   "display_name": "Python 3",
   "language": "python",
   "name": "python3"
  },
  "language_info": {
   "codemirror_mode": {
    "name": "ipython",
    "version": 3
   },
   "file_extension": ".py",
   "mimetype": "text/x-python",
   "name": "python",
   "nbconvert_exporter": "python",
   "pygments_lexer": "ipython3",
   "version": "3.7.4"
  }
 },
 "nbformat": 4,
 "nbformat_minor": 2
}
